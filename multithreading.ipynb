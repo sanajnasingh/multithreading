{
 "cells": [
  {
   "cell_type": "markdown",
   "id": "02da939c-f07b-4c5b-900c-2d152416bb07",
   "metadata": {},
   "source": [
    "ANS 1"
   ]
  },
  {
   "cell_type": "code",
   "execution_count": null,
   "id": "f4eae776-2ddc-40fb-b3ed-87bff7708825",
   "metadata": {},
   "outputs": [],
   "source": [
    "Python multithreading enables efficient utilization of the resources as the threads share the data space and\n",
    "memory. Multithreading in Python allows the concurrent and parallel occurrence of various tasks. It causes a\n",
    "reduction in time consumption or response time, thereby increasing the performan.\n",
    "\n",
    "The Threading Modules module used to handle threads in python"
   ]
  },
  {
   "cell_type": "markdown",
   "id": "113c15b1-a4ce-426c-abf3-8c17b5752f2f",
   "metadata": {},
   "source": [
    "ANS 2"
   ]
  },
  {
   "cell_type": "code",
   "execution_count": null,
   "id": "de9e1654-1f93-4c57-982c-084b41e38557",
   "metadata": {},
   "outputs": [],
   "source": [
    "Allows you to have different parts of your program run concurrently and can simplify your design. \n",
    "\n",
    "threading.activeCount() − Returns the number of thread objects that are active.\n",
    "threading.currentThread() − Returns the number of thread objects in the caller's thread control.\n",
    "threading.enumerate() − Returns a list of all thread objects that are currently active.\n"
   ]
  },
  {
   "cell_type": "markdown",
   "id": "bb8c99e9-2258-426c-b52d-dc54bd1de561",
   "metadata": {},
   "source": [
    "ANS 3"
   ]
  },
  {
   "cell_type": "code",
   "execution_count": null,
   "id": "70d193d4-89a1-472a-8deb-3083f848e4e1",
   "metadata": {},
   "outputs": [],
   "source": [
    "1.run() − The run() method is the entry point for a thread.\n",
    "2.start() − The start() method starts a thread by calling the run method.\n",
    "3.join([time]) − The join() waits for threads to terminate.\n",
    "4.isAlive() − The isAlive() method checks whether a thread is still executing."
   ]
  },
  {
   "cell_type": "markdown",
   "id": "c3233b87-6d09-4333-93a7-164f36cc3446",
   "metadata": {},
   "source": [
    "ANS 4"
   ]
  },
  {
   "cell_type": "code",
   "execution_count": 1,
   "id": "9cb9f9b9-4e56-4ae5-af4e-dcae2fbdeb7c",
   "metadata": {},
   "outputs": [],
   "source": [
    "import threading"
   ]
  },
  {
   "cell_type": "code",
   "execution_count": 2,
   "id": "42d18c92-b4d9-4998-8aab-668f6816939a",
   "metadata": {},
   "outputs": [
    {
     "name": "stdout",
     "output_type": "stream",
     "text": [
      "Square: 100\n",
      "Cube: 1000\n",
      "Done!\n"
     ]
    }
   ],
   "source": [
    "def print_cube(num):\n",
    "    # function to print cube of given num\n",
    "    print(\"Cube: {}\" .format(num * num * num))\n",
    " \n",
    " \n",
    "def print_square(num):\n",
    "    # function to print square of given num\n",
    "    print(\"Square: {}\" .format(num * num))\n",
    " \n",
    " \n",
    "if __name__ ==\"__main__\":\n",
    "    # creating thread\n",
    "    t1 = threading.Thread(target=print_square, args=(10,))\n",
    "    t2 = threading.Thread(target=print_cube, args=(10,))\n",
    " \n",
    "    # starting thread 1\n",
    "    t1.start()\n",
    "    # starting thread 2\n",
    "    t2.start()\n",
    " \n",
    "    # wait until thread 1 is completely executed\n",
    "    t1.join()\n",
    "    # wait until thread 2 is completely executed\n",
    "    t2.join()\n",
    " \n",
    "    # both threads completely executed\n",
    "    print(\"Done!\")"
   ]
  },
  {
   "cell_type": "markdown",
   "id": "a028c32c-afbc-4e50-884e-ab752d63eb1e",
   "metadata": {},
   "source": [
    "ANS 5"
   ]
  },
  {
   "cell_type": "code",
   "execution_count": null,
   "id": "8b208c34-2c93-44c9-94e4-5de699563f07",
   "metadata": {},
   "outputs": [],
   "source": [
    "ADVANTAGES\n",
    "Multithreading in Python streamlines the efficient utilization of resources as the threads share the\n",
    "same memory and data space.\n",
    "It also allows the concurrent appearance of multiple tasks and reduces the response time. \n",
    "This improves the performance.\n",
    "\n",
    "DISADVANTAGES\n",
    "Difficulty of writing code. \n",
    "Difficulty of debugging. \n",
    "Difficulty of managing concurrency.\n",
    "Difficulty of testing. \n",
    "Difficulty of porting existing code."
   ]
  },
  {
   "cell_type": "markdown",
   "id": "1e98363d-78d8-4955-b64b-e88a4585db3f",
   "metadata": {},
   "source": [
    "ANS 6"
   ]
  },
  {
   "cell_type": "code",
   "execution_count": null,
   "id": "707f0dda-703a-4968-8735-371fd4795962",
   "metadata": {},
   "outputs": [],
   "source": [
    "A race condition occurs when two threads use the same variable at a given time. \n",
    "Deadlock exists when two threads seek one lock simultaneously. \n",
    "This situation will stop both threads from processing or executing the functions"
   ]
  }
 ],
 "metadata": {
  "kernelspec": {
   "display_name": "Python 3 (ipykernel)",
   "language": "python",
   "name": "python3"
  },
  "language_info": {
   "codemirror_mode": {
    "name": "ipython",
    "version": 3
   },
   "file_extension": ".py",
   "mimetype": "text/x-python",
   "name": "python",
   "nbconvert_exporter": "python",
   "pygments_lexer": "ipython3",
   "version": "3.10.8"
  }
 },
 "nbformat": 4,
 "nbformat_minor": 5
}
